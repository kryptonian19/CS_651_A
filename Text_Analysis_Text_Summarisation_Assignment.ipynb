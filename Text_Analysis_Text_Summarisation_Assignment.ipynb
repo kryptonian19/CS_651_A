{
 "cells": [
  {
   "cell_type": "markdown",
   "id": "88cfff66",
   "metadata": {},
   "source": [
    "# Importing Modules"
   ]
  },
  {
   "cell_type": "code",
   "execution_count": 1,
   "id": "fb51fb21",
   "metadata": {},
   "outputs": [],
   "source": [
    "from nltk.corpus import stopwords #you can remove stop words for speed\n",
    "from nltk.cluster.util import cosine_distance\n",
    "import numpy as np\n",
    "import networkx as nx"
   ]
  },
  {
   "cell_type": "markdown",
   "id": "af27457a",
   "metadata": {},
   "source": [
    "# French Language"
   ]
  },
  {
   "cell_type": "markdown",
   "id": "b94b5be8",
   "metadata": {},
   "source": [
    "# Reading the text file and splitting the paragraph into sentences"
   ]
  },
  {
   "cell_type": "code",
   "execution_count": 2,
   "id": "6bd73575",
   "metadata": {},
   "outputs": [
    {
     "name": "stdout",
     "output_type": "stream",
     "text": [
      "Je mâ€™appelle Jessica\n",
      "Je suis une fille, je suis franÃ§aise et jâ€™ai treize ans\n",
      "Je vais Ã  lâ€™Ã©cole Ã  Nice, mais jâ€™habite Ã  Cagnes-Sur-Mer\n",
      "Jâ€™ai deux frÃ¨res\n",
      "Le premier sâ€™appelle Thomas, il a quatorze ans\n",
      "Le second sâ€™appelle Yann et il a neuf ans\n",
      "Mon papa est italien et il est fleuriste\n",
      "Ma mÃ¨re est allemande et est avocate\n",
      "Mes frÃ¨res et moi parlons franÃ§ais, italien et allemand Ã  la maison\n",
      "Nous avons une grande maison avec un chien, un poisson et deux chats.\n"
     ]
    }
   ],
   "source": [
    "file = open(\"C:/Users/seerl/Downloads/FrenchText.txt\", \"r\")\n",
    "#This file contains one paragraph of multiple sentences\n",
    "filedata = file.readlines()\n",
    "article = filedata[0].split(\". \") #Just do the first paragraph\n",
    "sentences = []\n",
    "for sentence in article:\n",
    "    print(sentence)\n",
    "    sentences.append(sentence.replace(\"[^a-zA-Z]\", \" \").split(\" \"))"
   ]
  },
  {
   "cell_type": "markdown",
   "id": "ec10aeb3",
   "metadata": {},
   "source": [
    "# Printing Sentences"
   ]
  },
  {
   "cell_type": "code",
   "execution_count": 3,
   "id": "43e69082",
   "metadata": {},
   "outputs": [
    {
     "name": "stdout",
     "output_type": "stream",
     "text": [
      "Sentences are  [['Je', 'mâ€™appelle', 'Jessica'], ['Je', 'suis', 'une', 'fille,', 'je', 'suis', 'franÃ§aise', 'et', 'jâ€™ai', 'treize', 'ans'], ['Je', 'vais', 'Ã\\xa0', 'lâ€™Ã©cole', 'Ã\\xa0', 'Nice,', 'mais', 'jâ€™habite', 'Ã\\xa0', 'Cagnes-Sur-Mer'], ['Jâ€™ai', 'deux', 'frÃ¨res'], ['Le', 'premier', 'sâ€™appelle', 'Thomas,', 'il', 'a', 'quatorze', 'ans'], ['Le', 'second', 'sâ€™appelle', 'Yann', 'et', 'il', 'a', 'neuf', 'ans'], ['Mon', 'papa', 'est', 'italien', 'et', 'il', 'est', 'fleuriste'], ['Ma', 'mÃ¨re', 'est', 'allemande', 'et', 'est', 'avocate'], ['Mes', 'frÃ¨res', 'et', 'moi', 'parlons', 'franÃ§ais,', 'italien', 'et', 'allemand', 'Ã\\xa0', 'la', 'maison'], ['Nous', 'avons', 'une', 'grande', 'maison', 'avec', 'un', 'chien,', 'un', 'poisson', 'et', 'deux', 'chats.']]\n"
     ]
    }
   ],
   "source": [
    "print(\"Sentences are \", sentences)"
   ]
  },
  {
   "cell_type": "markdown",
   "id": "75ce9a61",
   "metadata": {},
   "source": [
    "# Function to calculate similarity"
   ]
  },
  {
   "cell_type": "code",
   "execution_count": 4,
   "id": "8b6e0b48",
   "metadata": {},
   "outputs": [],
   "source": [
    "def sentence_similarity(sent1, sent2 ):\n",
    "    sent1 = [w.lower() for w in sent1]\n",
    "    sent2 = [w.lower() for w in sent2]\n",
    "    all_words = list(set(sent1 + sent2))\n",
    "    vector1 = [0] * len(all_words)\n",
    "    vector2 = [0] * len(all_words)\n",
    "    for w in sent1:\n",
    "        vector1[all_words.index(w)] += 1\n",
    "        for w in sent2:\n",
    "            vector2[all_words.index(w)] += 1\n",
    "            return 1 - cosine_distance(vector1, vector2)"
   ]
  },
  {
   "cell_type": "markdown",
   "id": "c314ab54",
   "metadata": {},
   "source": [
    "# Creating Similarity Matrix"
   ]
  },
  {
   "cell_type": "code",
   "execution_count": 5,
   "id": "0b7cbcb5",
   "metadata": {},
   "outputs": [
    {
     "name": "stdout",
     "output_type": "stream",
     "text": [
      "Similarity matrix:\n",
      " [[0. 1. 1. 0. 0. 0. 0. 0. 0. 0.]\n",
      " [1. 0. 1. 0. 0. 0. 0. 0. 0. 0.]\n",
      " [1. 1. 0. 0. 0. 0. 0. 0. 0. 0.]\n",
      " [0. 0. 0. 0. 0. 0. 0. 0. 0. 0.]\n",
      " [0. 0. 0. 0. 0. 1. 0. 0. 0. 0.]\n",
      " [0. 0. 0. 0. 1. 0. 0. 0. 0. 0.]\n",
      " [0. 0. 0. 0. 0. 0. 0. 0. 0. 0.]\n",
      " [0. 0. 0. 0. 0. 0. 0. 0. 0. 0.]\n",
      " [0. 0. 0. 0. 0. 0. 0. 0. 0. 0.]\n",
      " [0. 0. 0. 0. 0. 0. 0. 0. 0. 0.]]\n"
     ]
    }
   ],
   "source": [
    "similarity_matrix = np.zeros((len(sentences), len(sentences)))\n",
    "\n",
    "for idx1 in range(len(sentences)):\n",
    "    for idx2 in range(len(sentences)):\n",
    "        if idx1 == idx2: #ignore if both are same sentences\n",
    "            continue\n",
    "        similarity_matrix[idx1][idx2] = sentence_similarity(sentences[idx1], sentences[idx2])\n",
    "\n",
    "print(\"Similarity matrix:\\n\", similarity_matrix)"
   ]
  },
  {
   "cell_type": "markdown",
   "id": "745d3af9",
   "metadata": {},
   "source": [
    "# Ranking sentences in similarity matrix"
   ]
  },
  {
   "cell_type": "code",
   "execution_count": 6,
   "id": "e320341a",
   "metadata": {},
   "outputs": [
    {
     "name": "stdout",
     "output_type": "stream",
     "text": [
      "scores {0: 0.1739125798540512, 1: 0.1739125798540512, 2: 0.1739125798540512, 3: 0.02608742014594887, 4: 0.1739125798540512, 5: 0.1739125798540512, 6: 0.02608742014594887, 7: 0.02608742014594887, 8: 0.02608742014594887, 9: 0.02608742014594887}\n"
     ]
    }
   ],
   "source": [
    "# Step 3 - Rank sentences in similarity martix\n",
    "sentence_similarity_graph = nx.from_numpy_array(similarity_matrix)\n",
    "scores = nx.pagerank(sentence_similarity_graph)\n",
    "print(\"scores\", scores)"
   ]
  },
  {
   "cell_type": "markdown",
   "id": "0cbc1d96",
   "metadata": {},
   "source": [
    "# Sorting the ranks"
   ]
  },
  {
   "cell_type": "code",
   "execution_count": 7,
   "id": "8f7715ed",
   "metadata": {},
   "outputs": [
    {
     "name": "stdout",
     "output_type": "stream",
     "text": [
      "Indexes of top ranked_sentence order are \n",
      "\n",
      " [(0.1739125798540512, ['Le', 'second', 'sâ€™appelle', 'Yann', 'et', 'il', 'a', 'neuf', 'ans']), (0.1739125798540512, ['Le', 'premier', 'sâ€™appelle', 'Thomas,', 'il', 'a', 'quatorze', 'ans']), (0.1739125798540512, ['Je', 'vais', 'Ã\\xa0', 'lâ€™Ã©cole', 'Ã\\xa0', 'Nice,', 'mais', 'jâ€™habite', 'Ã\\xa0', 'Cagnes-Sur-Mer']), (0.1739125798540512, ['Je', 'suis', 'une', 'fille,', 'je', 'suis', 'franÃ§aise', 'et', 'jâ€™ai', 'treize', 'ans']), (0.1739125798540512, ['Je', 'mâ€™appelle', 'Jessica']), (0.02608742014594887, ['Nous', 'avons', 'une', 'grande', 'maison', 'avec', 'un', 'chien,', 'un', 'poisson', 'et', 'deux', 'chats.']), (0.02608742014594887, ['Mon', 'papa', 'est', 'italien', 'et', 'il', 'est', 'fleuriste']), (0.02608742014594887, ['Mes', 'frÃ¨res', 'et', 'moi', 'parlons', 'franÃ§ais,', 'italien', 'et', 'allemand', 'Ã\\xa0', 'la', 'maison']), (0.02608742014594887, ['Ma', 'mÃ¨re', 'est', 'allemande', 'et', 'est', 'avocate']), (0.02608742014594887, ['Jâ€™ai', 'deux', 'frÃ¨res'])]\n"
     ]
    }
   ],
   "source": [
    "# Step 4 - Sort the rank and pick top sentences\n",
    "ranked_sentence = sorted(((scores[i],s) for i,s in\n",
    "enumerate(sentences)), reverse=True)\n",
    "print(\"Indexes of top ranked_sentence order are \\n\\n\",\n",
    "ranked_sentence)"
   ]
  },
  {
   "cell_type": "markdown",
   "id": "2a72553c",
   "metadata": {},
   "source": [
    "# Selecting number of sentences to pick for summary"
   ]
  },
  {
   "cell_type": "code",
   "execution_count": 8,
   "id": "9f9ec071",
   "metadata": {},
   "outputs": [
    {
     "name": "stdout",
     "output_type": "stream",
     "text": [
      "How many sentences do you want in the summary? 3\n"
     ]
    }
   ],
   "source": [
    "#Step 5 - How many sentences to pick\n",
    "n = int(input(\"How many sentences do you want in the summary? \"))\n",
    "#n=2\n",
    "summarize_text = []\n",
    "for i in range(n):\n",
    "    summarize_text.append(\" \".join(ranked_sentence[i][1]))"
   ]
  },
  {
   "cell_type": "markdown",
   "id": "9992bb38",
   "metadata": {},
   "source": [
    "# Printing the Summary"
   ]
  },
  {
   "cell_type": "code",
   "execution_count": 9,
   "id": "f6ac7c80",
   "metadata": {},
   "outputs": [
    {
     "name": "stdout",
     "output_type": "stream",
     "text": [
      "Summarize Text: \n",
      " Le second sâ€™appelle Yann et il a neuf ans. Le premier sâ€™appelle Thomas, il a quatorze ans. Je vais Ã  lâ€™Ã©cole Ã  Nice, mais jâ€™habite Ã  Cagnes-Sur-Mer\n"
     ]
    }
   ],
   "source": [
    "# Step 6 - Offcourse, output the summarize text\n",
    "print(\"Summarize Text: \\n\", \". \".join(summarize_text))"
   ]
  },
  {
   "cell_type": "markdown",
   "id": "9501c041",
   "metadata": {},
   "source": [
    "# Spanish Language"
   ]
  },
  {
   "cell_type": "markdown",
   "id": "e29d9b75",
   "metadata": {},
   "source": [
    "# Reading the text file and splitting the paragraph into sentences"
   ]
  },
  {
   "cell_type": "code",
   "execution_count": 10,
   "id": "1f60dd46",
   "metadata": {},
   "outputs": [
    {
     "name": "stdout",
     "output_type": "stream",
     "text": [
      "Yo vivo en Granada, una ciudad pequeÃ±a que tiene monumentos muy importantes como la Alhambra\n",
      "AquÃ­ la comida es deliciosa y son famosos el gazpacho, el rebujito y el salmorejo\n",
      "Mi nueva casa estÃ¡ en una calle ancha que tiene muchos Ã¡rboles\n",
      "El piso de arriba de mi casa tiene tres dormitorios y un despacho para trabajar\n",
      "El piso de abajo tiene una cocina muy grande, un comedor con una mesa y seis sillas, un salÃ³n con dos sofÃ¡s verdes, una televisiÃ³n y cortinas\n",
      "AdemÃ¡s, tiene una pequeÃ±a terraza con piscina donde puedo tomar el sol en verano.\n"
     ]
    }
   ],
   "source": [
    "file = open(\"C:/Users/seerl/Downloads/SpanishText.txt\", \"r\")\n",
    "#This file contains one paragraph of multiple sentences\n",
    "filedata = file.readlines()\n",
    "article = filedata[0].split(\". \") #Just do the first paragraph\n",
    "sentences = []\n",
    "for sentence in article:\n",
    "    print(sentence)\n",
    "    sentences.append(sentence.replace(\"[^a-zA-Z]\", \" \").split(\" \"))"
   ]
  },
  {
   "cell_type": "markdown",
   "id": "648af47e",
   "metadata": {},
   "source": [
    "# Printing Sentences"
   ]
  },
  {
   "cell_type": "code",
   "execution_count": 11,
   "id": "87624ec2",
   "metadata": {},
   "outputs": [
    {
     "name": "stdout",
     "output_type": "stream",
     "text": [
      "Sentences are  [['Yo', 'vivo', 'en', 'Granada,', 'una', 'ciudad', 'pequeÃ±a', 'que', 'tiene', 'monumentos', 'muy', 'importantes', 'como', 'la', 'Alhambra'], ['AquÃ\\xad', 'la', 'comida', 'es', 'deliciosa', 'y', 'son', 'famosos', 'el', 'gazpacho,', 'el', 'rebujito', 'y', 'el', 'salmorejo'], ['Mi', 'nueva', 'casa', 'estÃ¡', 'en', 'una', 'calle', 'ancha', 'que', 'tiene', 'muchos', 'Ã¡rboles'], ['El', 'piso', 'de', 'arriba', 'de', 'mi', 'casa', 'tiene', 'tres', 'dormitorios', 'y', 'un', 'despacho', 'para', 'trabajar'], ['El', 'piso', 'de', 'abajo', 'tiene', 'una', 'cocina', 'muy', 'grande,', 'un', 'comedor', 'con', 'una', 'mesa', 'y', 'seis', 'sillas,', 'un', 'salÃ³n', 'con', 'dos', 'sofÃ¡s', 'verdes,', 'una', 'televisiÃ³n', 'y', 'cortinas'], ['AdemÃ¡s,', 'tiene', 'una', 'pequeÃ±a', 'terraza', 'con', 'piscina', 'donde', 'puedo', 'tomar', 'el', 'sol', 'en', 'verano.']]\n"
     ]
    }
   ],
   "source": [
    "print(\"Sentences are \", sentences)"
   ]
  },
  {
   "cell_type": "markdown",
   "id": "3a7d543b",
   "metadata": {},
   "source": [
    "# Creating Similarity Matrix"
   ]
  },
  {
   "cell_type": "code",
   "execution_count": 12,
   "id": "33ab1ab0",
   "metadata": {},
   "outputs": [
    {
     "name": "stdout",
     "output_type": "stream",
     "text": [
      "Similarity matrix:\n",
      " [[0. 0. 0. 0. 0. 0.]\n",
      " [0. 0. 0. 0. 0. 0.]\n",
      " [0. 0. 0. 0. 0. 0.]\n",
      " [0. 0. 0. 0. 1. 0.]\n",
      " [0. 0. 0. 1. 0. 0.]\n",
      " [0. 0. 0. 0. 0. 0.]]\n"
     ]
    }
   ],
   "source": [
    "similarity_matrix = np.zeros((len(sentences), len(sentences)))\n",
    "\n",
    "for idx1 in range(len(sentences)):\n",
    "    for idx2 in range(len(sentences)):\n",
    "        if idx1 == idx2: #ignore if both are same sentences\n",
    "            continue\n",
    "        similarity_matrix[idx1][idx2] = sentence_similarity(sentences[idx1], sentences[idx2])\n",
    "\n",
    "print(\"Similarity matrix:\\n\", similarity_matrix)"
   ]
  },
  {
   "cell_type": "markdown",
   "id": "0b8c62a5",
   "metadata": {},
   "source": [
    "# Ranking sentences in similarity matrix"
   ]
  },
  {
   "cell_type": "code",
   "execution_count": 13,
   "id": "340bb81c",
   "metadata": {},
   "outputs": [
    {
     "name": "stdout",
     "output_type": "stream",
     "text": [
      "scores {0: 0.05769302748150241, 1: 0.05769302748150241, 2: 0.05769302748150241, 3: 0.38461394503699525, 4: 0.38461394503699525, 5: 0.05769302748150241}\n"
     ]
    }
   ],
   "source": [
    "# Step 3 - Rank sentences in similarity martix\n",
    "sentence_similarity_graph = nx.from_numpy_array(similarity_matrix)\n",
    "scores = nx.pagerank(sentence_similarity_graph)\n",
    "print(\"scores\", scores)"
   ]
  },
  {
   "cell_type": "markdown",
   "id": "32a00eeb",
   "metadata": {},
   "source": [
    "# Sorting the Ranks"
   ]
  },
  {
   "cell_type": "code",
   "execution_count": 14,
   "id": "ca52c5d2",
   "metadata": {},
   "outputs": [
    {
     "name": "stdout",
     "output_type": "stream",
     "text": [
      "Indexes of top ranked_sentence order are \n",
      "\n",
      " [(0.38461394503699525, ['El', 'piso', 'de', 'arriba', 'de', 'mi', 'casa', 'tiene', 'tres', 'dormitorios', 'y', 'un', 'despacho', 'para', 'trabajar']), (0.38461394503699525, ['El', 'piso', 'de', 'abajo', 'tiene', 'una', 'cocina', 'muy', 'grande,', 'un', 'comedor', 'con', 'una', 'mesa', 'y', 'seis', 'sillas,', 'un', 'salÃ³n', 'con', 'dos', 'sofÃ¡s', 'verdes,', 'una', 'televisiÃ³n', 'y', 'cortinas']), (0.05769302748150241, ['Yo', 'vivo', 'en', 'Granada,', 'una', 'ciudad', 'pequeÃ±a', 'que', 'tiene', 'monumentos', 'muy', 'importantes', 'como', 'la', 'Alhambra']), (0.05769302748150241, ['Mi', 'nueva', 'casa', 'estÃ¡', 'en', 'una', 'calle', 'ancha', 'que', 'tiene', 'muchos', 'Ã¡rboles']), (0.05769302748150241, ['AquÃ\\xad', 'la', 'comida', 'es', 'deliciosa', 'y', 'son', 'famosos', 'el', 'gazpacho,', 'el', 'rebujito', 'y', 'el', 'salmorejo']), (0.05769302748150241, ['AdemÃ¡s,', 'tiene', 'una', 'pequeÃ±a', 'terraza', 'con', 'piscina', 'donde', 'puedo', 'tomar', 'el', 'sol', 'en', 'verano.'])]\n"
     ]
    }
   ],
   "source": [
    "# Step 4 - Sort the rank and pick top sentences\n",
    "ranked_sentence = sorted(((scores[i],s) for i,s in\n",
    "enumerate(sentences)), reverse=True)\n",
    "print(\"Indexes of top ranked_sentence order are \\n\\n\",\n",
    "ranked_sentence)"
   ]
  },
  {
   "cell_type": "markdown",
   "id": "f063872d",
   "metadata": {},
   "source": [
    "# Selecting the number of sentences to pick for summary"
   ]
  },
  {
   "cell_type": "code",
   "execution_count": 15,
   "id": "608cb404",
   "metadata": {},
   "outputs": [
    {
     "name": "stdout",
     "output_type": "stream",
     "text": [
      "How many sentences do you want in the summary? 4\n"
     ]
    }
   ],
   "source": [
    "#Step 5 - How many sentences to pick\n",
    "n = int(input(\"How many sentences do you want in the summary? \"))\n",
    "#n=2\n",
    "summarize_text = []\n",
    "for i in range(n):\n",
    "    summarize_text.append(\" \".join(ranked_sentence[i][1]))"
   ]
  },
  {
   "cell_type": "markdown",
   "id": "b144c013",
   "metadata": {},
   "source": [
    "# Printing the Summary"
   ]
  },
  {
   "cell_type": "code",
   "execution_count": 16,
   "id": "461725f1",
   "metadata": {},
   "outputs": [
    {
     "name": "stdout",
     "output_type": "stream",
     "text": [
      "Summarize Text: \n",
      " El piso de arriba de mi casa tiene tres dormitorios y un despacho para trabajar. El piso de abajo tiene una cocina muy grande, un comedor con una mesa y seis sillas, un salÃ³n con dos sofÃ¡s verdes, una televisiÃ³n y cortinas. Yo vivo en Granada, una ciudad pequeÃ±a que tiene monumentos muy importantes como la Alhambra. Mi nueva casa estÃ¡ en una calle ancha que tiene muchos Ã¡rboles\n"
     ]
    }
   ],
   "source": [
    "# Step 6 - Offcourse, output the summarize text\n",
    "print(\"Summarize Text: \\n\", \". \".join(summarize_text))"
   ]
  },
  {
   "cell_type": "markdown",
   "id": "5077179f",
   "metadata": {},
   "source": [
    "# Portuguese Language"
   ]
  },
  {
   "cell_type": "markdown",
   "id": "31caf092",
   "metadata": {},
   "source": [
    "# Reading the text file and splitting the paragraph into sentences"
   ]
  },
  {
   "cell_type": "code",
   "execution_count": 17,
   "id": "d952b12f",
   "metadata": {},
   "outputs": [
    {
     "name": "stdout",
     "output_type": "stream",
     "text": [
      "JoÃ£o e Pedro eram os nomes dos amigos de Lucas\n",
      "Os trÃªs subiram na Ã¡rvore para pegar algumas frutas, mas nÃ£o conseguiram chegar atÃ© o alto da jaqueira\n",
      "Um fazendeiro que morava perto do acampamento resolveu ajudar os jovens e trouxe uma escada para que alcanÃ§assem as jacas\n",
      "O fazendeiro se chamava Roberto e conseguiu ajudar Lucas e seus amigos\n",
      "Depois de comerem as jacas eles ficaram conversando embaixo da jaqueira\n",
      "Lucas gostou tanto daquele lugar que resolveu voltar outras vezes\n",
      "Sempre que vai acampar ele faz uma visita a Roberto, pois se tornaram amigos.\n"
     ]
    }
   ],
   "source": [
    "file = open(\"C:/Users/seerl/Downloads/PortugueseText.txt\", \"r\")\n",
    "#This file contains one paragraph of multiple sentences\n",
    "filedata = file.readlines()\n",
    "article = filedata[0].split(\". \") #Just do the first paragraph\n",
    "sentences = []\n",
    "for sentence in article:\n",
    "    print(sentence)\n",
    "    sentences.append(sentence.replace(\"[^a-zA-Z]\", \" \").split(\" \"))"
   ]
  },
  {
   "cell_type": "markdown",
   "id": "3565c85d",
   "metadata": {},
   "source": [
    "# Printing Sentences"
   ]
  },
  {
   "cell_type": "code",
   "execution_count": 18,
   "id": "830cf3ef",
   "metadata": {},
   "outputs": [
    {
     "name": "stdout",
     "output_type": "stream",
     "text": [
      "Sentences are  [['JoÃ£o', 'e', 'Pedro', 'eram', 'os', 'nomes', 'dos', 'amigos', 'de', 'Lucas'], ['Os', 'trÃªs', 'subiram', 'na', 'Ã¡rvore', 'para', 'pegar', 'algumas', 'frutas,', 'mas', 'nÃ£o', 'conseguiram', 'chegar', 'atÃ©', 'o', 'alto', 'da', 'jaqueira'], ['Um', 'fazendeiro', 'que', 'morava', 'perto', 'do', 'acampamento', 'resolveu', 'ajudar', 'os', 'jovens', 'e', 'trouxe', 'uma', 'escada', 'para', 'que', 'alcanÃ§assem', 'as', 'jacas'], ['O', 'fazendeiro', 'se', 'chamava', 'Roberto', 'e', 'conseguiu', 'ajudar', 'Lucas', 'e', 'seus', 'amigos'], ['Depois', 'de', 'comerem', 'as', 'jacas', 'eles', 'ficaram', 'conversando', 'embaixo', 'da', 'jaqueira'], ['Lucas', 'gostou', 'tanto', 'daquele', 'lugar', 'que', 'resolveu', 'voltar', 'outras', 'vezes'], ['Sempre', 'que', 'vai', 'acampar', 'ele', 'faz', 'uma', 'visita', 'a', 'Roberto,', 'pois', 'se', 'tornaram', 'amigos.']]\n"
     ]
    }
   ],
   "source": [
    "print(\"Sentences are \", sentences)"
   ]
  },
  {
   "cell_type": "markdown",
   "id": "0ae3f48b",
   "metadata": {},
   "source": [
    "# Creating Similarity Matrix"
   ]
  },
  {
   "cell_type": "code",
   "execution_count": 19,
   "id": "4b2dccc9",
   "metadata": {},
   "outputs": [
    {
     "name": "stdout",
     "output_type": "stream",
     "text": [
      "Similarity matrix:\n",
      " [[0. 0. 0. 0. 0. 0. 0.]\n",
      " [0. 0. 0. 0. 0. 0. 0.]\n",
      " [0. 0. 0. 0. 0. 0. 0.]\n",
      " [0. 0. 0. 0. 0. 0. 0.]\n",
      " [0. 0. 0. 0. 0. 0. 0.]\n",
      " [0. 0. 0. 0. 0. 0. 0.]\n",
      " [0. 0. 0. 0. 0. 0. 0.]]\n"
     ]
    }
   ],
   "source": [
    "similarity_matrix = np.zeros((len(sentences), len(sentences)))\n",
    "\n",
    "for idx1 in range(len(sentences)):\n",
    "    for idx2 in range(len(sentences)):\n",
    "        if idx1 == idx2: #ignore if both are same sentences\n",
    "            continue\n",
    "        similarity_matrix[idx1][idx2] = sentence_similarity(sentences[idx1], sentences[idx2])\n",
    "\n",
    "print(\"Similarity matrix:\\n\", similarity_matrix)"
   ]
  },
  {
   "cell_type": "markdown",
   "id": "9e7f5d81",
   "metadata": {},
   "source": [
    "# Ranking Sentences in Similarity Matrix"
   ]
  },
  {
   "cell_type": "code",
   "execution_count": 20,
   "id": "2363a3b4",
   "metadata": {},
   "outputs": [
    {
     "name": "stdout",
     "output_type": "stream",
     "text": [
      "scores {0: 0.14285714285714282, 1: 0.14285714285714282, 2: 0.14285714285714282, 3: 0.14285714285714282, 4: 0.14285714285714282, 5: 0.14285714285714282, 6: 0.14285714285714282}\n"
     ]
    }
   ],
   "source": [
    "# Step 3 - Rank sentences in similarity martix\n",
    "sentence_similarity_graph = nx.from_numpy_array(similarity_matrix)\n",
    "scores = nx.pagerank(sentence_similarity_graph)\n",
    "print(\"scores\", scores)"
   ]
  },
  {
   "cell_type": "markdown",
   "id": "b017c605",
   "metadata": {},
   "source": [
    "# Sorting the Ranks"
   ]
  },
  {
   "cell_type": "code",
   "execution_count": 21,
   "id": "80795092",
   "metadata": {},
   "outputs": [
    {
     "name": "stdout",
     "output_type": "stream",
     "text": [
      "Indexes of top ranked_sentence order are \n",
      "\n",
      " [(0.14285714285714282, ['Um', 'fazendeiro', 'que', 'morava', 'perto', 'do', 'acampamento', 'resolveu', 'ajudar', 'os', 'jovens', 'e', 'trouxe', 'uma', 'escada', 'para', 'que', 'alcanÃ§assem', 'as', 'jacas']), (0.14285714285714282, ['Sempre', 'que', 'vai', 'acampar', 'ele', 'faz', 'uma', 'visita', 'a', 'Roberto,', 'pois', 'se', 'tornaram', 'amigos.']), (0.14285714285714282, ['Os', 'trÃªs', 'subiram', 'na', 'Ã¡rvore', 'para', 'pegar', 'algumas', 'frutas,', 'mas', 'nÃ£o', 'conseguiram', 'chegar', 'atÃ©', 'o', 'alto', 'da', 'jaqueira']), (0.14285714285714282, ['O', 'fazendeiro', 'se', 'chamava', 'Roberto', 'e', 'conseguiu', 'ajudar', 'Lucas', 'e', 'seus', 'amigos']), (0.14285714285714282, ['Lucas', 'gostou', 'tanto', 'daquele', 'lugar', 'que', 'resolveu', 'voltar', 'outras', 'vezes']), (0.14285714285714282, ['JoÃ£o', 'e', 'Pedro', 'eram', 'os', 'nomes', 'dos', 'amigos', 'de', 'Lucas']), (0.14285714285714282, ['Depois', 'de', 'comerem', 'as', 'jacas', 'eles', 'ficaram', 'conversando', 'embaixo', 'da', 'jaqueira'])]\n"
     ]
    }
   ],
   "source": [
    "# Step 4 - Sort the rank and pick top sentences\n",
    "ranked_sentence = sorted(((scores[i],s) for i,s in\n",
    "enumerate(sentences)), reverse=True)\n",
    "print(\"Indexes of top ranked_sentence order are \\n\\n\",\n",
    "ranked_sentence)"
   ]
  },
  {
   "cell_type": "markdown",
   "id": "9b55e3f5",
   "metadata": {},
   "source": [
    "# Selecting the number of sentences to pick for summary"
   ]
  },
  {
   "cell_type": "code",
   "execution_count": 22,
   "id": "469e6a88",
   "metadata": {},
   "outputs": [
    {
     "name": "stdout",
     "output_type": "stream",
     "text": [
      "How many sentences do you want in the summary? 2\n"
     ]
    }
   ],
   "source": [
    "#Step 5 - How many sentences to pick\n",
    "n = int(input(\"How many sentences do you want in the summary? \"))\n",
    "#n=2\n",
    "summarize_text = []\n",
    "for i in range(n):\n",
    "    summarize_text.append(\" \".join(ranked_sentence[i][1]))"
   ]
  },
  {
   "cell_type": "markdown",
   "id": "83db7c1b",
   "metadata": {},
   "source": [
    "# Printing the Summary"
   ]
  },
  {
   "cell_type": "code",
   "execution_count": 23,
   "id": "e92de64f",
   "metadata": {},
   "outputs": [
    {
     "name": "stdout",
     "output_type": "stream",
     "text": [
      "Summarize Text: \n",
      " Um fazendeiro que morava perto do acampamento resolveu ajudar os jovens e trouxe uma escada para que alcanÃ§assem as jacas. Sempre que vai acampar ele faz uma visita a Roberto, pois se tornaram amigos.\n"
     ]
    }
   ],
   "source": [
    "# Step 6 - Offcourse, output the summarize text\n",
    "print(\"Summarize Text: \\n\", \". \".join(summarize_text))"
   ]
  },
  {
   "cell_type": "code",
   "execution_count": null,
   "id": "dd919916",
   "metadata": {},
   "outputs": [],
   "source": []
  }
 ],
 "metadata": {
  "kernelspec": {
   "display_name": "Python 3 (ipykernel)",
   "language": "python",
   "name": "python3"
  },
  "language_info": {
   "codemirror_mode": {
    "name": "ipython",
    "version": 3
   },
   "file_extension": ".py",
   "mimetype": "text/x-python",
   "name": "python",
   "nbconvert_exporter": "python",
   "pygments_lexer": "ipython3",
   "version": "3.9.13"
  }
 },
 "nbformat": 4,
 "nbformat_minor": 5
}
