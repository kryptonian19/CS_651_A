{
 "cells": [
  {
   "cell_type": "markdown",
   "id": "2a2939c7",
   "metadata": {},
   "source": [
    "# PrintingString"
   ]
  },
  {
   "cell_type": "code",
   "execution_count": 6,
   "id": "ce380228",
   "metadata": {},
   "outputs": [
    {
     "name": "stdout",
     "output_type": "stream",
     "text": [
      "Swordsman\n",
      "d\n"
     ]
    }
   ],
   "source": [
    "#printing a string\n",
    "b = \"Swordsman\"\n",
    "print(b)\n",
    "print(b[4])"
   ]
  },
  {
   "cell_type": "markdown",
   "id": "7c1737fe",
   "metadata": {},
   "source": [
    "# length function"
   ]
  },
  {
   "cell_type": "code",
   "execution_count": 5,
   "id": "0a53b837",
   "metadata": {},
   "outputs": [
    {
     "name": "stdout",
     "output_type": "stream",
     "text": [
      "15\n"
     ]
    }
   ],
   "source": [
    "a = \"King of Pirates\"\n",
    "#prints the length of the string\n",
    "print(len(a))"
   ]
  },
  {
   "cell_type": "markdown",
   "id": "bb6116bd",
   "metadata": {},
   "source": [
    "# String Concatenation"
   ]
  },
  {
   "cell_type": "code",
   "execution_count": 11,
   "id": "457934ca",
   "metadata": {},
   "outputs": [
    {
     "name": "stdout",
     "output_type": "stream",
     "text": [
      "Roronoa Zoro\n"
     ]
    }
   ],
   "source": [
    "a = \"Roronoa\"\n",
    "b = \"Zoro\"\n",
    "c = a + \" \" + b\n",
    "print(c)"
   ]
  },
  {
   "cell_type": "markdown",
   "id": "2e1adbee",
   "metadata": {},
   "source": [
    "# String Slicing"
   ]
  },
  {
   "cell_type": "code",
   "execution_count": 3,
   "id": "b7660559",
   "metadata": {},
   "outputs": [
    {
     "name": "stdout",
     "output_type": "stream",
     "text": [
      "Terr\n"
     ]
    }
   ],
   "source": [
    "#String slicing can be used to extract a part of the string(substring)\n",
    "a = \"Terrestrial\"\n",
    "print(a[0:4])"
   ]
  },
  {
   "cell_type": "markdown",
   "id": "faebad66",
   "metadata": {},
   "source": [
    "# lowercase and uppercase functions"
   ]
  },
  {
   "cell_type": "code",
   "execution_count": 4,
   "id": "b8f6cb17",
   "metadata": {},
   "outputs": [
    {
     "name": "stdout",
     "output_type": "stream",
     "text": [
      "True\n",
      "False\n",
      "emperor\n",
      "EMPEROR\n"
     ]
    }
   ],
   "source": [
    "a = \"EMPEROR\"\n",
    "#prints whether given string is in uppercase or not\n",
    "print(a.isupper())\n",
    "\n",
    "#prints whether given string is in lowercase or not\n",
    "print(a.islower())\n",
    "\n",
    "#prints the given string with all lowercase letters\n",
    "print(a.lower())\n",
    "\n",
    "#prints the given string with all uppercase letters\n",
    "print(a.upper())"
   ]
  },
  {
   "cell_type": "markdown",
   "id": "de26dc94",
   "metadata": {},
   "source": [
    "# strip functions"
   ]
  },
  {
   "cell_type": "code",
   "execution_count": 2,
   "id": "01a4f034",
   "metadata": {},
   "outputs": [
    {
     "name": "stdout",
     "output_type": "stream",
     "text": [
      "Roronoa     \n",
      "noa\n",
      "     Roronoa\n",
      "Ror\n",
      "Roronoa\n",
      "ronoa\n"
     ]
    }
   ],
   "source": [
    "a = \"Roronoa\"\n",
    "b = \"     Roronoa     \"\n",
    "\n",
    "#returns string with all leading whitespaces removed\n",
    "print(b.lstrip())\n",
    "\n",
    "#returns string after removing all instances of the argument string that appear at the beginning of the string\n",
    "print(a.lstrip(\"Ror\"))\n",
    "\n",
    "#returns string with all trailing whitespaces removed\n",
    "print(b.rstrip())\n",
    "\n",
    "#returns string after removing all instances of the argument string that appear at the end of the string\n",
    "print(a.rstrip(\"noa\"))\n",
    "\n",
    "#returns string with all leading and trailing white spaces removed\n",
    "print(b.strip())\n",
    "\n",
    "#returns string after removing all instances of the argument string that appear at the end and beginning of the string\n",
    "print(a.strip(\"Ro\"))"
   ]
  },
  {
   "cell_type": "markdown",
   "id": "d0da89fb",
   "metadata": {},
   "source": [
    "# Substring Functions"
   ]
  },
  {
   "cell_type": "code",
   "execution_count": 1,
   "id": "b0fcbfef",
   "metadata": {},
   "outputs": [
    {
     "name": "stdout",
     "output_type": "stream",
     "text": [
      "True\n",
      "True\n",
      "4\n",
      "Raj is a Cricket player!\n"
     ]
    }
   ],
   "source": [
    "a = 'Raj is a Basketball player!'\n",
    "\n",
    "#returns true if string starts with the argument string\n",
    "print(a.startswith('Ra'))\n",
    "\n",
    "#returns true if string end with the argument string\n",
    "print(a.endswith('er!'))\n",
    "\n",
    "#returns lowest index in string where substring is found\n",
    "print(a.find(\"is\"))\n",
    "\n",
    "#replaces first argument with second argument in the string\n",
    "print(a.replace('Basketball', 'Cricket'))"
   ]
  },
  {
   "cell_type": "markdown",
   "id": "0ed3d85a",
   "metadata": {},
   "source": [
    "# Split functions or Tokenization"
   ]
  },
  {
   "cell_type": "code",
   "execution_count": 29,
   "id": "79f619a5",
   "metadata": {},
   "outputs": [
    {
     "name": "stdout",
     "output_type": "stream",
     "text": [
      "['phanesh', 'is', 'a', 'student!']\n",
      "['1', '2', '3', '4', '5', '6', '7', '8', '9', '10']\n"
     ]
    }
   ],
   "source": [
    "#splits the string as tokens with space as delimeter when delimeter is not mentioned\n",
    "a = 'phanesh is a student!'\n",
    "a_list = a.split()\n",
    "print(a_list)\n",
    "\n",
    "#splits the string as tokens with the given argument as delimeter\n",
    "b = '1,2,3,4,5,6,7,8,9,10'\n",
    "b_list = b.split(',')\n",
    "print(b_list)"
   ]
  },
  {
   "cell_type": "code",
   "execution_count": null,
   "id": "9aecd4fb",
   "metadata": {},
   "outputs": [],
   "source": []
  }
 ],
 "metadata": {
  "kernelspec": {
   "display_name": "Python 3 (ipykernel)",
   "language": "python",
   "name": "python3"
  },
  "language_info": {
   "codemirror_mode": {
    "name": "ipython",
    "version": 3
   },
   "file_extension": ".py",
   "mimetype": "text/x-python",
   "name": "python",
   "nbconvert_exporter": "python",
   "pygments_lexer": "ipython3",
   "version": "3.9.13"
  }
 },
 "nbformat": 4,
 "nbformat_minor": 5
}
